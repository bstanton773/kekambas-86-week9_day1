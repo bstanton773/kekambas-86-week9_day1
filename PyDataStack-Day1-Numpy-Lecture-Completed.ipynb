{
 "cells": [
  {
   "cell_type": "markdown",
   "metadata": {},
   "source": [
    "# Data Science Numpy & CSV's"
   ]
  },
  {
   "cell_type": "markdown",
   "metadata": {},
   "source": [
    "## Tasks Today:\n",
    "\n",
    "1) <b>Numpy</b> <br>\n",
    " &nbsp;&nbsp;&nbsp;&nbsp; a) Python List Comparison <br>\n",
    " &nbsp;&nbsp;&nbsp;&nbsp; c) Importing <br>\n",
    " &nbsp;&nbsp;&nbsp;&nbsp; d) Creating an NDArray <br>\n",
    " &nbsp;&nbsp;&nbsp;&nbsp;&nbsp;&nbsp;&nbsp;&nbsp; - np.array() <br>\n",
    " &nbsp;&nbsp;&nbsp;&nbsp;&nbsp;&nbsp;&nbsp;&nbsp; - np.zeros() <br>\n",
    " &nbsp;&nbsp;&nbsp;&nbsp;&nbsp;&nbsp;&nbsp;&nbsp; - np.ones() <br>\n",
    " &nbsp;&nbsp;&nbsp;&nbsp;&nbsp;&nbsp;&nbsp;&nbsp; - np.arange() <br>\n",
    " &nbsp;&nbsp;&nbsp;&nbsp;&nbsp;&nbsp;&nbsp;&nbsp; - np.linspace() <br>\n",
    " &nbsp;&nbsp;&nbsp;&nbsp; e) Performing Calculations on NDArrays <br>\n",
    " &nbsp;&nbsp;&nbsp;&nbsp;&nbsp;&nbsp;&nbsp;&nbsp; - Summation <br>\n",
    " &nbsp;&nbsp;&nbsp;&nbsp;&nbsp;&nbsp;&nbsp;&nbsp; - Difference <br>\n",
    " &nbsp;&nbsp;&nbsp;&nbsp;&nbsp;&nbsp;&nbsp;&nbsp; - Multiplication <br>\n",
    " &nbsp;&nbsp;&nbsp;&nbsp;&nbsp;&nbsp;&nbsp;&nbsp; - Division <br>\n",
    " &nbsp;&nbsp;&nbsp;&nbsp;&nbsp;&nbsp;&nbsp;&nbsp; - Modulo <br>\n",
    " &nbsp;&nbsp;&nbsp;&nbsp;&nbsp;&nbsp;&nbsp;&nbsp; - Floor Division <br>\n",
    " &nbsp;&nbsp;&nbsp;&nbsp;&nbsp;&nbsp;&nbsp;&nbsp; - Broadcasting <br>\n",
    "  &nbsp;&nbsp;&nbsp;&nbsp; f) Indexing and Assigning NDArrays <br>\n",
    " &nbsp;&nbsp;&nbsp;&nbsp; g) Numpy Subsetting <br>\n",
    "  &nbsp;&nbsp;&nbsp;&nbsp; h) Checking NDArray Type <br>\n",
    " &nbsp;&nbsp;&nbsp;&nbsp; i) Altering NDArray Type <br>\n",
    " &nbsp;&nbsp;&nbsp;&nbsp; j) Checking the Shape <br>\n",
    " &nbsp;&nbsp;&nbsp;&nbsp; k) Altering the Shape <br>\n",
    " &nbsp;&nbsp;&nbsp;&nbsp; l) In-Class Exercise #2 <br>\n",
    " &nbsp;&nbsp;&nbsp;&nbsp; m) Complex Indexing & Assigning <br>\n",
    " &nbsp;&nbsp;&nbsp;&nbsp; n) Elementwise Multplication <br>\n",
    " &nbsp;&nbsp;&nbsp;&nbsp; o) Random Sampling <br>\n",
    "\n",
    "2) <b>Working With CSV's</b> <br>\n",
    " &nbsp;&nbsp;&nbsp;&nbsp; a) Imports <br>\n",
    " &nbsp;&nbsp;&nbsp;&nbsp; b) Reading a CSV <br>\n",
    " &nbsp;&nbsp;&nbsp;&nbsp; c) Loading a CSV's Data <br>\n",
    " &nbsp;&nbsp;&nbsp;&nbsp; d) Checking Number of Records <br>\n",
    " \n",
    "3) <b>Exercises</b> <br>\n",
    " &nbsp;&nbsp;&nbsp;&nbsp; a) #1 - Calculate BMI with NDArrays <br>\n",
    " &nbsp;&nbsp;&nbsp;&nbsp; c) #3 - Random Matrix Function <br>\n",
    " &nbsp;&nbsp;&nbsp;&nbsp; d) #4 - Comparing White Sox Hitting Numbers <br>"
   ]
  },
  {
   "cell_type": "markdown",
   "metadata": {},
   "source": [
    "<p>Python Lists are flexible, dynamic python objects that do their job quite well. But they do not support some mathematical operations in an intuitive way. Consider the summation of two lists, $l_1$ and $l_2$</p>"
   ]
  },
  {
   "cell_type": "code",
   "execution_count": 1,
   "metadata": {},
   "outputs": [
    {
     "name": "stdout",
     "output_type": "stream",
     "text": [
      "Summation of a regular python list: [1, 2, 3, 4, 5, 6]\n"
     ]
    },
    {
     "ename": "TypeError",
     "evalue": "unsupported operand type(s) for -: 'list' and 'list'",
     "output_type": "error",
     "traceback": [
      "\u001b[1;31m---------------------------------------------------------------------------\u001b[0m",
      "\u001b[1;31mTypeError\u001b[0m                                 Traceback (most recent call last)",
      "\u001b[1;32m<ipython-input-1-4c4b23e865b5>\u001b[0m in \u001b[0;36m<module>\u001b[1;34m\u001b[0m\n\u001b[0;32m      4\u001b[0m \u001b[1;33m\u001b[0m\u001b[0m\n\u001b[0;32m      5\u001b[0m \u001b[0mprint\u001b[0m\u001b[1;33m(\u001b[0m\u001b[1;34mf\"Summation of a regular python list: {l_1 + l_2}\"\u001b[0m\u001b[1;33m)\u001b[0m\u001b[1;33m\u001b[0m\u001b[1;33m\u001b[0m\u001b[0m\n\u001b[1;32m----> 6\u001b[1;33m \u001b[0mprint\u001b[0m\u001b[1;33m(\u001b[0m\u001b[1;34mf\"Difference of a regular python list: {l_1 - l_2}\"\u001b[0m\u001b[1;33m)\u001b[0m\u001b[1;33m\u001b[0m\u001b[1;33m\u001b[0m\u001b[0m\n\u001b[0m",
      "\u001b[1;31mTypeError\u001b[0m: unsupported operand type(s) for -: 'list' and 'list'"
     ]
    }
   ],
   "source": [
    "# create two lists and sum both of them together (results may not be what you expect)\n",
    "l_1 = [1, 2, 3]\n",
    "l_2 = [4, 5, 6]\n",
    "\n",
    "print(f\"Summation of a regular python list: {l_1 + l_2}\")\n",
    "print(f\"Difference of a regular python list: {l_1 - l_2}\")"
   ]
  },
  {
   "cell_type": "markdown",
   "metadata": {},
   "source": [
    "<p>If we wanted to sum lists elementwise, we could write our own function that does the job entirely within the framework of python</p>"
   ]
  },
  {
   "cell_type": "code",
   "execution_count": 2,
   "metadata": {},
   "outputs": [
    {
     "data": {
      "text/plain": [
       "[3, 8, 6]"
      ]
     },
     "execution_count": 2,
     "metadata": {},
     "output_type": "execute_result"
    }
   ],
   "source": [
    "def sum_lists(l1, l2):\n",
    "    output = []\n",
    "    for idx in range(len(l1)):\n",
    "        output.append(l1[idx] + l2[idx])\n",
    "    return output\n",
    "    \n",
    "sum_lists([2, 3, 4], [1, 5, 2])"
   ]
  },
  {
   "cell_type": "code",
   "execution_count": 3,
   "metadata": {},
   "outputs": [
    {
     "data": {
      "text/plain": [
       "[5, 7, 9]"
      ]
     },
     "execution_count": 3,
     "metadata": {},
     "output_type": "execute_result"
    }
   ],
   "source": [
    "sum_lists(l_1, l_2)"
   ]
  },
  {
   "cell_type": "code",
   "execution_count": 4,
   "metadata": {},
   "outputs": [
    {
     "data": {
      "text/plain": [
       "[[1, 2, 3, 10, 20, 30], [4, 5, 6, 14, 15, 16]]"
      ]
     },
     "execution_count": 4,
     "metadata": {},
     "output_type": "execute_result"
    }
   ],
   "source": [
    "x = [[1, 2, 3], [4, 5, 6]]\n",
    "y = [[10, 20, 30], [14, 15, 16]]\n",
    "\n",
    "sum_lists(x, y)"
   ]
  },
  {
   "cell_type": "markdown",
   "metadata": {},
   "source": [
    "## Numpy <br>\n",
    "\n",
    "<p>NumPy is the fundamental package for scientific computing in Python. It is an open source Python library that’s used in almost every field of science and engineering. It’s the universal standard for working with numerical data in Python, and it’s at the core of the scientific Python and PyData ecosystems. </p>\n",
    "<a href=\"https://numpy.org/doc/stable/index.html\" target=\"_blank\" rel=\"noopener\">Numpy Documentation</a>\n"
   ]
  },
  {
   "cell_type": "markdown",
   "metadata": {},
   "source": [
    "#### Importing"
   ]
  },
  {
   "cell_type": "code",
   "execution_count": 5,
   "metadata": {},
   "outputs": [],
   "source": [
    "# always import as np, standard across all of data science\n",
    "# !pip install numpy\n",
    "import numpy as np"
   ]
  },
  {
   "cell_type": "code",
   "execution_count": 6,
   "metadata": {},
   "outputs": [
    {
     "data": {
      "text/plain": [
       "<module 'numpy' from 'C:\\\\Users\\\\bstan\\\\anaconda3\\\\envs\\\\intro\\\\lib\\\\site-packages\\\\numpy\\\\__init__.py'>"
      ]
     },
     "execution_count": 6,
     "metadata": {},
     "output_type": "execute_result"
    }
   ],
   "source": [
    "np"
   ]
  },
  {
   "cell_type": "markdown",
   "metadata": {},
   "source": [
    "<p>NumPy allows us to create arrays and manipulate numerical data inside them. While a Python list can contain different data types within a single list, all of the elements in a NumPy array should be the same. NumPy arrays are faster and more compact than Python lists. A NumPy array consumes less memory and uses much less memory to store data.</p>"
   ]
  },
  {
   "cell_type": "markdown",
   "metadata": {},
   "source": [
    "#### Creating an NDArray\n",
    "<p>NumPy is based around a class called the $\\textit{NDArray}$, which is a flexible vector / matrix class that implements the intuitive matrix and vector arithmatic lacking in basic Python. Let's start by creating some NDArrays:</p>"
   ]
  },
  {
   "cell_type": "markdown",
   "metadata": {},
   "source": [
    "###### - np.array()"
   ]
  },
  {
   "cell_type": "code",
   "execution_count": 7,
   "metadata": {},
   "outputs": [
    {
     "name": "stdout",
     "output_type": "stream",
     "text": [
      "[1 2 3]\n",
      "<class 'numpy.ndarray'>\n"
     ]
    },
    {
     "data": {
      "text/plain": [
       "array([1, 2, 3])"
      ]
     },
     "execution_count": 7,
     "metadata": {},
     "output_type": "execute_result"
    }
   ],
   "source": [
    "# np.array([list])\n",
    "\n",
    "arr1 = np.array([1, 2, 3])\n",
    "print(arr1)\n",
    "print(type(arr1))\n",
    "arr1"
   ]
  },
  {
   "cell_type": "code",
   "execution_count": 8,
   "metadata": {},
   "outputs": [
    {
     "data": {
      "text/plain": [
       "array([4, 5, 6])"
      ]
     },
     "execution_count": 8,
     "metadata": {},
     "output_type": "execute_result"
    }
   ],
   "source": [
    "arr2 = np.array([4, 5, 6])\n",
    "arr2"
   ]
  },
  {
   "cell_type": "code",
   "execution_count": 9,
   "metadata": {},
   "outputs": [
    {
     "data": {
      "text/plain": [
       "array(['7', '8', '9'], dtype='<U11')"
      ]
     },
     "execution_count": 9,
     "metadata": {},
     "output_type": "execute_result"
    }
   ],
   "source": [
    "arr3 = np.array([7, 8, '9'])\n",
    "arr3"
   ]
  },
  {
   "cell_type": "code",
   "execution_count": 10,
   "metadata": {},
   "outputs": [
    {
     "data": {
      "text/plain": [
       "array([[1, 2, 3],\n",
       "       [4, 5, 6]])"
      ]
     },
     "execution_count": 10,
     "metadata": {},
     "output_type": "execute_result"
    }
   ],
   "source": [
    "arr4 = np.array([[1, 2, 3], [4, 5, 6]])\n",
    "arr4"
   ]
  },
  {
   "cell_type": "markdown",
   "metadata": {},
   "source": [
    "###### - np.zeros()"
   ]
  },
  {
   "cell_type": "code",
   "execution_count": 11,
   "metadata": {},
   "outputs": [
    {
     "data": {
      "text/plain": [
       "array([0., 0., 0., 0., 0.])"
      ]
     },
     "execution_count": 11,
     "metadata": {},
     "output_type": "execute_result"
    }
   ],
   "source": [
    "# np.zeros(shape)\n",
    "# shape = the shape of the ndarray - int or tuple(RxC)\n",
    "arr_zeros1 = np.zeros(5)\n",
    "arr_zeros1"
   ]
  },
  {
   "cell_type": "code",
   "execution_count": 12,
   "metadata": {},
   "outputs": [
    {
     "data": {
      "text/plain": [
       "array([[0., 0., 0.],\n",
       "       [0., 0., 0.],\n",
       "       [0., 0., 0.],\n",
       "       [0., 0., 0.],\n",
       "       [0., 0., 0.]])"
      ]
     },
     "execution_count": 12,
     "metadata": {},
     "output_type": "execute_result"
    }
   ],
   "source": [
    "arr_zeros2 = np.zeros((5,3))\n",
    "arr_zeros2"
   ]
  },
  {
   "cell_type": "markdown",
   "metadata": {},
   "source": [
    "###### - np.ones()"
   ]
  },
  {
   "cell_type": "code",
   "execution_count": 13,
   "metadata": {},
   "outputs": [
    {
     "data": {
      "text/plain": [
       "array([1., 1., 1., 1., 1.])"
      ]
     },
     "execution_count": 13,
     "metadata": {},
     "output_type": "execute_result"
    }
   ],
   "source": [
    "# np.ones(shape)\n",
    "arr_ones1 = np.ones(5)\n",
    "arr_ones1"
   ]
  },
  {
   "cell_type": "code",
   "execution_count": 14,
   "metadata": {},
   "outputs": [
    {
     "data": {
      "text/plain": [
       "array([[1., 1., 1.],\n",
       "       [1., 1., 1.],\n",
       "       [1., 1., 1.],\n",
       "       [1., 1., 1.],\n",
       "       [1., 1., 1.]])"
      ]
     },
     "execution_count": 14,
     "metadata": {},
     "output_type": "execute_result"
    }
   ],
   "source": [
    "arr_ones2 = np.ones((5,3))\n",
    "arr_ones2"
   ]
  },
  {
   "cell_type": "markdown",
   "metadata": {},
   "source": [
    "###### - np.arange()"
   ]
  },
  {
   "cell_type": "code",
   "execution_count": 15,
   "metadata": {},
   "outputs": [
    {
     "data": {
      "text/plain": [
       "array([0, 1, 2, 3, 4, 5, 6, 7, 8, 9])"
      ]
     },
     "execution_count": 15,
     "metadata": {},
     "output_type": "execute_result"
    }
   ],
   "source": [
    "# np.arange(stop)\n",
    "# np.arange(start, stop)\n",
    "# np.arange(start, stop, step)\n",
    "\n",
    "arr_range1 = np.arange(10)\n",
    "arr_range1"
   ]
  },
  {
   "cell_type": "code",
   "execution_count": 16,
   "metadata": {},
   "outputs": [
    {
     "data": {
      "text/plain": [
       "array([10, 11, 12, 13, 14, 15, 16, 17, 18, 19])"
      ]
     },
     "execution_count": 16,
     "metadata": {},
     "output_type": "execute_result"
    }
   ],
   "source": [
    "arr_range2 = np.arange(10,20)\n",
    "arr_range2"
   ]
  },
  {
   "cell_type": "code",
   "execution_count": 17,
   "metadata": {},
   "outputs": [
    {
     "data": {
      "text/plain": [
       "array([10, 12, 14, 16, 18])"
      ]
     },
     "execution_count": 17,
     "metadata": {},
     "output_type": "execute_result"
    }
   ],
   "source": [
    "arr_range3 = np.arange(10,20,2)\n",
    "arr_range3"
   ]
  },
  {
   "cell_type": "markdown",
   "metadata": {},
   "source": [
    "###### - np.linspace()"
   ]
  },
  {
   "cell_type": "code",
   "execution_count": 18,
   "metadata": {},
   "outputs": [
    {
     "data": {
      "text/plain": [
       "array([ 0. ,  2.5,  5. ,  7.5, 10. ])"
      ]
     },
     "execution_count": 18,
     "metadata": {},
     "output_type": "execute_result"
    }
   ],
   "source": [
    "# np.linspace(start, stop, interval)\n",
    "\n",
    "arr_lin = np.linspace(0,10, 5)\n",
    "arr_lin"
   ]
  },
  {
   "cell_type": "code",
   "execution_count": 19,
   "metadata": {},
   "outputs": [
    {
     "data": {
      "text/plain": [
       "array([  0.,  10.,  20.,  30.,  40.,  50.,  60.,  70.,  80.,  90., 100.])"
      ]
     },
     "execution_count": 19,
     "metadata": {},
     "output_type": "execute_result"
    }
   ],
   "source": [
    "arr_lin2 = np.linspace(0,100,11)\n",
    "arr_lin2"
   ]
  },
  {
   "cell_type": "markdown",
   "metadata": {},
   "source": [
    "#### Performing Calculations on NDArrays"
   ]
  },
  {
   "cell_type": "markdown",
   "metadata": {},
   "source": [
    "###### - Summation"
   ]
  },
  {
   "cell_type": "code",
   "execution_count": 20,
   "metadata": {
    "scrolled": true
   },
   "outputs": [
    {
     "data": {
      "text/plain": [
       "array([15, 30, 45, 60, 75])"
      ]
     },
     "execution_count": 20,
     "metadata": {},
     "output_type": "execute_result"
    }
   ],
   "source": [
    "arr_list1 = np.array([5,10,15,20,25])\n",
    "arr_list2 = np.array([10,20,30,40,50])\n",
    "\n",
    "result_sum = arr_list1 + arr_list2\n",
    "result_sum"
   ]
  },
  {
   "cell_type": "markdown",
   "metadata": {},
   "source": [
    "###### - Difference"
   ]
  },
  {
   "cell_type": "code",
   "execution_count": 21,
   "metadata": {},
   "outputs": [
    {
     "data": {
      "text/plain": [
       "array([ 5, 10, 15, 20, 25])"
      ]
     },
     "execution_count": 21,
     "metadata": {},
     "output_type": "execute_result"
    }
   ],
   "source": [
    "result_diff = arr_list2 - arr_list1\n",
    "result_diff"
   ]
  },
  {
   "cell_type": "markdown",
   "metadata": {},
   "source": [
    "###### - Multiplication"
   ]
  },
  {
   "cell_type": "code",
   "execution_count": 22,
   "metadata": {},
   "outputs": [
    {
     "data": {
      "text/plain": [
       "array([  50,  200,  450,  800, 1250])"
      ]
     },
     "execution_count": 22,
     "metadata": {},
     "output_type": "execute_result"
    }
   ],
   "source": [
    "result_mul = arr_list1 * arr_list2\n",
    "result_mul"
   ]
  },
  {
   "cell_type": "markdown",
   "metadata": {},
   "source": [
    "###### - Division"
   ]
  },
  {
   "cell_type": "code",
   "execution_count": 23,
   "metadata": {},
   "outputs": [
    {
     "data": {
      "text/plain": [
       "array([2., 2., 2., 2., 2.])"
      ]
     },
     "execution_count": 23,
     "metadata": {},
     "output_type": "execute_result"
    }
   ],
   "source": [
    "result_div = arr_list2 / arr_list1\n",
    "result_div"
   ]
  },
  {
   "cell_type": "markdown",
   "metadata": {},
   "source": [
    "#### Modulo"
   ]
  },
  {
   "cell_type": "code",
   "execution_count": 24,
   "metadata": {},
   "outputs": [
    {
     "data": {
      "text/plain": [
       "array([0, 0, 0, 0, 0], dtype=int32)"
      ]
     },
     "execution_count": 24,
     "metadata": {},
     "output_type": "execute_result"
    }
   ],
   "source": [
    "result_mod = arr_list2 % arr_list1\n",
    "result_mod"
   ]
  },
  {
   "cell_type": "markdown",
   "metadata": {},
   "source": [
    "#### Floor Division"
   ]
  },
  {
   "cell_type": "code",
   "execution_count": 25,
   "metadata": {},
   "outputs": [
    {
     "data": {
      "text/plain": [
       "array([2, 2, 2, 2, 2], dtype=int32)"
      ]
     },
     "execution_count": 25,
     "metadata": {},
     "output_type": "execute_result"
    }
   ],
   "source": [
    "result_floor = arr_list2 // arr_list1\n",
    "result_floor"
   ]
  },
  {
   "cell_type": "markdown",
   "metadata": {},
   "source": [
    "#### Broadcasting"
   ]
  },
  {
   "cell_type": "code",
   "execution_count": 26,
   "metadata": {},
   "outputs": [
    {
     "data": {
      "text/plain": [
       "array([ 5, 10, 15, 20, 25])"
      ]
     },
     "execution_count": 26,
     "metadata": {},
     "output_type": "execute_result"
    }
   ],
   "source": [
    "arr_list1"
   ]
  },
  {
   "cell_type": "code",
   "execution_count": 27,
   "metadata": {},
   "outputs": [
    {
     "data": {
      "text/plain": [
       "array([ 25,  50,  75, 100, 125])"
      ]
     },
     "execution_count": 27,
     "metadata": {},
     "output_type": "execute_result"
    }
   ],
   "source": [
    "arr_list1 * 5"
   ]
  },
  {
   "cell_type": "code",
   "execution_count": 28,
   "metadata": {},
   "outputs": [
    {
     "data": {
      "text/plain": [
       "array([0.5, 1. , 1.5, 2. , 2.5])"
      ]
     },
     "execution_count": 28,
     "metadata": {},
     "output_type": "execute_result"
    }
   ],
   "source": [
    "arr_list1 / 10"
   ]
  },
  {
   "cell_type": "markdown",
   "metadata": {},
   "source": [
    "#### Concatenate"
   ]
  },
  {
   "cell_type": "code",
   "execution_count": 29,
   "metadata": {},
   "outputs": [
    {
     "data": {
      "text/plain": [
       "array([ 5, 10, 15, 20, 25, 10, 20, 30, 40, 50])"
      ]
     },
     "execution_count": 29,
     "metadata": {},
     "output_type": "execute_result"
    }
   ],
   "source": [
    "# np.concatenate((nda1, nda2))\n",
    "arr_list3 = np.concatenate((arr_list1, arr_list2))\n",
    "arr_list3"
   ]
  },
  {
   "cell_type": "markdown",
   "metadata": {},
   "source": [
    "#### Indexing Numpy Arrays"
   ]
  },
  {
   "cell_type": "code",
   "execution_count": 30,
   "metadata": {},
   "outputs": [
    {
     "data": {
      "text/plain": [
       "array([0, 1, 2, 3, 4, 5, 6, 7, 8, 9])"
      ]
     },
     "execution_count": 30,
     "metadata": {},
     "output_type": "execute_result"
    }
   ],
   "source": [
    "arr_idx = np.arange(10)\n",
    "arr_idx"
   ]
  },
  {
   "cell_type": "code",
   "execution_count": 31,
   "metadata": {},
   "outputs": [
    {
     "data": {
      "text/plain": [
       "2"
      ]
     },
     "execution_count": 31,
     "metadata": {},
     "output_type": "execute_result"
    }
   ],
   "source": [
    "arr_idx[2]"
   ]
  },
  {
   "cell_type": "code",
   "execution_count": 32,
   "metadata": {},
   "outputs": [
    {
     "data": {
      "text/plain": [
       "array([2, 3, 4])"
      ]
     },
     "execution_count": 32,
     "metadata": {},
     "output_type": "execute_result"
    }
   ],
   "source": [
    "arr_idx[2:5]"
   ]
  },
  {
   "cell_type": "code",
   "execution_count": 33,
   "metadata": {},
   "outputs": [
    {
     "data": {
      "text/plain": [
       "array([4, 5, 6, 7, 8, 9])"
      ]
     },
     "execution_count": 33,
     "metadata": {},
     "output_type": "execute_result"
    }
   ],
   "source": [
    "arr_idx[4:]"
   ]
  },
  {
   "cell_type": "code",
   "execution_count": 34,
   "metadata": {},
   "outputs": [
    {
     "data": {
      "text/plain": [
       "array([0, 1, 2, 3, 4, 5])"
      ]
     },
     "execution_count": 34,
     "metadata": {},
     "output_type": "execute_result"
    }
   ],
   "source": [
    "arr_idx[:6]"
   ]
  },
  {
   "cell_type": "code",
   "execution_count": 35,
   "metadata": {},
   "outputs": [
    {
     "data": {
      "text/plain": [
       "array([2, 5, 8])"
      ]
     },
     "execution_count": 35,
     "metadata": {},
     "output_type": "execute_result"
    }
   ],
   "source": [
    "arr_idx[2:9:3]"
   ]
  },
  {
   "cell_type": "code",
   "execution_count": 36,
   "metadata": {},
   "outputs": [
    {
     "data": {
      "text/plain": [
       "7"
      ]
     },
     "execution_count": 36,
     "metadata": {},
     "output_type": "execute_result"
    }
   ],
   "source": [
    "arr_idx[-3]"
   ]
  },
  {
   "cell_type": "markdown",
   "metadata": {},
   "source": [
    "<p>But what happens when we have a multidimensional array?</p>"
   ]
  },
  {
   "cell_type": "code",
   "execution_count": 37,
   "metadata": {},
   "outputs": [
    {
     "data": {
      "text/plain": [
       "array([[23, 65, 43],\n",
       "       [67, 82, 55],\n",
       "       [90, 37, 12]])"
      ]
     },
     "execution_count": 37,
     "metadata": {},
     "output_type": "execute_result"
    }
   ],
   "source": [
    "multi_list = [\n",
    "    [23, 65, 43],\n",
    "    [67, 82, 55],\n",
    "    [90, 37, 12]\n",
    "]\n",
    "\n",
    "nd_m = np.array(multi_list)\n",
    "nd_m"
   ]
  },
  {
   "cell_type": "markdown",
   "metadata": {},
   "source": [
    "Similar to lists within lists. It, however, looks more like the C-programming syntax..."
   ]
  },
  {
   "cell_type": "code",
   "execution_count": 38,
   "metadata": {},
   "outputs": [
    {
     "data": {
      "text/plain": [
       "82"
      ]
     },
     "execution_count": 38,
     "metadata": {},
     "output_type": "execute_result"
    }
   ],
   "source": [
    "# arr_name[row_index, col_index]\n",
    "\n",
    "nd_m[1, 1]"
   ]
  },
  {
   "cell_type": "code",
   "execution_count": 39,
   "metadata": {},
   "outputs": [
    {
     "data": {
      "text/plain": [
       "array([67, 82, 55])"
      ]
     },
     "execution_count": 39,
     "metadata": {},
     "output_type": "execute_result"
    }
   ],
   "source": [
    "nd_m[1]"
   ]
  },
  {
   "cell_type": "code",
   "execution_count": 40,
   "metadata": {},
   "outputs": [
    {
     "data": {
      "text/plain": [
       "90"
      ]
     },
     "execution_count": 40,
     "metadata": {},
     "output_type": "execute_result"
    }
   ],
   "source": [
    "nd_m[2, 0]"
   ]
  },
  {
   "cell_type": "markdown",
   "metadata": {},
   "source": [
    "#### Assigning Values"
   ]
  },
  {
   "cell_type": "code",
   "execution_count": 41,
   "metadata": {},
   "outputs": [
    {
     "data": {
      "text/plain": [
       "array([  0,   1,   2, 100,   4,   5,   6,   7,   8,   9])"
      ]
     },
     "execution_count": 41,
     "metadata": {},
     "output_type": "execute_result"
    }
   ],
   "source": [
    "# arr_name[idx] = val OR arr_name[row_idx,col_idx] = val\n",
    "\n",
    "arr_idx[3] = 100\n",
    "arr_idx"
   ]
  },
  {
   "cell_type": "code",
   "execution_count": 42,
   "metadata": {},
   "outputs": [
    {
     "data": {
      "text/plain": [
       "array([[23, 65, 43],\n",
       "       [67,  1, 55],\n",
       "       [90, 37, 12]])"
      ]
     },
     "execution_count": 42,
     "metadata": {},
     "output_type": "execute_result"
    }
   ],
   "source": [
    "nd_m[1,1] = 1\n",
    "nd_m"
   ]
  },
  {
   "cell_type": "markdown",
   "metadata": {},
   "source": [
    "#### Numpy Subsetting"
   ]
  },
  {
   "cell_type": "code",
   "execution_count": 43,
   "metadata": {},
   "outputs": [
    {
     "data": {
      "text/plain": [
       "array([  0, 150, 300, 450, 600, 750])"
      ]
     },
     "execution_count": 43,
     "metadata": {},
     "output_type": "execute_result"
    }
   ],
   "source": [
    "arr_sub = np.arange(0,900,150)\n",
    "arr_sub"
   ]
  },
  {
   "cell_type": "code",
   "execution_count": 44,
   "metadata": {},
   "outputs": [
    {
     "name": "stdout",
     "output_type": "stream",
     "text": [
      "[False False False False  True  True]\n"
     ]
    }
   ],
   "source": [
    "print(arr_sub > 500)"
   ]
  },
  {
   "cell_type": "code",
   "execution_count": 45,
   "metadata": {},
   "outputs": [
    {
     "name": "stdout",
     "output_type": "stream",
     "text": [
      "[600 750]\n"
     ]
    }
   ],
   "source": [
    "print(arr_sub[arr_sub > 500])"
   ]
  },
  {
   "cell_type": "code",
   "execution_count": 46,
   "metadata": {},
   "outputs": [
    {
     "data": {
      "text/plain": [
       "array([  0, 300, 600])"
      ]
     },
     "execution_count": 46,
     "metadata": {},
     "output_type": "execute_result"
    }
   ],
   "source": [
    "arr_sub[arr_sub % 100 == 0]"
   ]
  },
  {
   "cell_type": "markdown",
   "metadata": {},
   "source": [
    "##### Multiple Filters"
   ]
  },
  {
   "cell_type": "code",
   "execution_count": 47,
   "metadata": {},
   "outputs": [
    {
     "data": {
      "text/plain": [
       "array([  0, 300])"
      ]
     },
     "execution_count": 47,
     "metadata": {},
     "output_type": "execute_result"
    }
   ],
   "source": [
    "# arr_name[(first_condition) & OR | (second_condition)]\n",
    "arr_sub[(arr_sub < 400) & (arr_sub % 100 == 0)]"
   ]
  },
  {
   "cell_type": "code",
   "execution_count": 48,
   "metadata": {},
   "outputs": [
    {
     "data": {
      "text/plain": [
       "array([  0, 150, 300, 600])"
      ]
     },
     "execution_count": 48,
     "metadata": {},
     "output_type": "execute_result"
    }
   ],
   "source": [
    "arr_sub[(arr_sub < 400) | (arr_sub % 100 == 0)]"
   ]
  },
  {
   "cell_type": "markdown",
   "metadata": {},
   "source": [
    "#### Checking NDArray Type"
   ]
  },
  {
   "cell_type": "code",
   "execution_count": 49,
   "metadata": {},
   "outputs": [
    {
     "data": {
      "text/plain": [
       "dtype('int32')"
      ]
     },
     "execution_count": 49,
     "metadata": {},
     "output_type": "execute_result"
    }
   ],
   "source": [
    "# usind the .dtype() method\n",
    "nd_type = nd_m.dtype\n",
    "\n",
    "nd_type"
   ]
  },
  {
   "cell_type": "markdown",
   "metadata": {},
   "source": [
    "#### Altering NDArray Type"
   ]
  },
  {
   "cell_type": "code",
   "execution_count": 50,
   "metadata": {},
   "outputs": [
    {
     "name": "stdout",
     "output_type": "stream",
     "text": [
      "Type before change: int32\n",
      "Type after change: float32\n"
     ]
    }
   ],
   "source": [
    "print(f\"Type before change: {nd_m.dtype}\")\n",
    "\n",
    "changed = nd_m.astype(np.float32)\n",
    "\n",
    "print(f\"Type after change: {changed.dtype}\")"
   ]
  },
  {
   "cell_type": "code",
   "execution_count": 51,
   "metadata": {},
   "outputs": [
    {
     "data": {
      "text/plain": [
       "array([[23., 65., 43.],\n",
       "       [67.,  1., 55.],\n",
       "       [90., 37., 12.]], dtype=float32)"
      ]
     },
     "execution_count": 51,
     "metadata": {},
     "output_type": "execute_result"
    }
   ],
   "source": [
    "changed"
   ]
  },
  {
   "cell_type": "markdown",
   "metadata": {},
   "source": [
    "#### Checking the Shape <br>\n",
    "<p>The behavior and properties of an NDArray are often sensitively dependent on the $\\textit{shape}$ of the NDArray itself. The shape of an array can be found by calling the .shape method, which will return a tuple containing the array's dimensions:</p>"
   ]
  },
  {
   "cell_type": "code",
   "execution_count": 52,
   "metadata": {},
   "outputs": [
    {
     "name": "stdout",
     "output_type": "stream",
     "text": [
      "(3, 3)\n",
      "<class 'tuple'>\n"
     ]
    }
   ],
   "source": [
    " # shape is always rows x columns\n",
    "# Checking the Shape of the nd_m Numpy Array\n",
    "# Using the method .shape\n",
    "print(nd_m.shape)\n",
    "print(type(nd_m.shape))"
   ]
  },
  {
   "cell_type": "markdown",
   "metadata": {},
   "source": [
    "#### Altering the Shape <br>\n",
    "<p>As long as the number of elements remains fixed, we can reshape NDArrays at will:</p>"
   ]
  },
  {
   "cell_type": "code",
   "execution_count": 53,
   "metadata": {},
   "outputs": [
    {
     "name": "stdout",
     "output_type": "stream",
     "text": [
      "[[23. 65. 43. 67.  1. 55. 90. 37. 12.]]\n"
     ]
    }
   ],
   "source": [
    "# Change the shape of the numpy array\n",
    "# Using the method .reshape()\n",
    "\n",
    "# The reshape should be a multiple of the original shape\n",
    "# Meaning we can have a shape of (1,9) or (9,1) or (3,3)\n",
    "\n",
    "# (9,1) == 9 rows , 1 column\n",
    "\n",
    "print(changed.reshape( (1,9)))\n"
   ]
  },
  {
   "cell_type": "code",
   "execution_count": 54,
   "metadata": {},
   "outputs": [
    {
     "data": {
      "text/plain": [
       "array([[23.],\n",
       "       [65.],\n",
       "       [43.],\n",
       "       [67.],\n",
       "       [ 1.],\n",
       "       [55.],\n",
       "       [90.],\n",
       "       [37.],\n",
       "       [12.]], dtype=float32)"
      ]
     },
     "execution_count": 54,
     "metadata": {},
     "output_type": "execute_result"
    }
   ],
   "source": [
    "# keep in mind that the shape numbers do matter, (9, 1) is different than (1, 9)\n",
    "changed.reshape((9,1))"
   ]
  },
  {
   "cell_type": "markdown",
   "metadata": {},
   "source": [
    "#### In-Class Exercise #1 - Create a matrix of range 0 up to 16 and reshape it into a 4x4 matrix of strings"
   ]
  },
  {
   "cell_type": "code",
   "execution_count": 55,
   "metadata": {
    "scrolled": true
   },
   "outputs": [],
   "source": [
    "# array([['0', '1', '2', '3'],\n",
    "#        ['4', '5', '6', '7'],\n",
    "#        ['8', '9', '10', '11'],\n",
    "#        ['12', '13', '14', '15']], dtype='<U11')\n",
    "\n"
   ]
  },
  {
   "cell_type": "markdown",
   "metadata": {},
   "source": [
    "#### Complex Indexing & Assinging"
   ]
  },
  {
   "cell_type": "code",
   "execution_count": 56,
   "metadata": {},
   "outputs": [
    {
     "name": "stdout",
     "output_type": "stream",
     "text": [
      "Resetting Matrix\n",
      "Before Assignment: \n",
      "[[0. 0. 0. 0. 0. 0.]\n",
      " [0. 0. 0. 0. 0. 0.]\n",
      " [0. 0. 0. 0. 0. 0.]\n",
      " [0. 0. 0. 0. 0. 0.]\n",
      " [0. 0. 0. 0. 0. 0.]\n",
      " [0. 0. 0. 0. 0. 0.]]\n",
      "\n",
      " After assigning 1 to first column:\n",
      "[[1. 0. 0. 0. 0. 0.]\n",
      " [1. 0. 0. 0. 0. 0.]\n",
      " [1. 0. 0. 0. 0. 0.]\n",
      " [1. 0. 0. 0. 0. 0.]\n",
      " [1. 0. 0. 0. 0. 0.]\n",
      " [1. 0. 0. 0. 0. 0.]]\n",
      "\n",
      " After assigning 5 to the rows 3-5:\n",
      "[[1. 0. 0. 0. 0. 0.]\n",
      " [1. 0. 0. 0. 0. 0.]\n",
      " [5. 5. 5. 5. 5. 5.]\n",
      " [5. 5. 5. 5. 5. 5.]\n",
      " [5. 5. 5. 5. 5. 5.]\n",
      " [1. 0. 0. 0. 0. 0.]]\n",
      "\n",
      " Reset to Zero\n",
      "[[0. 0. 0. 0. 0. 0.]\n",
      " [0. 0. 0. 0. 0. 0.]\n",
      " [0. 0. 0. 0. 0. 0.]\n",
      " [0. 0. 0. 0. 0. 0.]\n",
      " [0. 0. 0. 0. 0. 0.]\n",
      " [0. 0. 0. 0. 0. 0.]]\n",
      "\n",
      " Assigning 2 to the second and third rows\n",
      "[[0. 2. 2. 0. 0. 0.]\n",
      " [0. 2. 2. 0. 0. 0.]\n",
      " [0. 2. 2. 0. 0. 0.]\n",
      " [0. 2. 2. 0. 0. 0.]\n",
      " [0. 2. 2. 0. 0. 0.]\n",
      " [0. 2. 2. 0. 0. 0.]]\n",
      "\n",
      " Assigning vector array x to the first axis in the Matrix\n",
      "[[0. 1. 2. 3. 4. 5.]\n",
      " [0. 0. 0. 0. 0. 0.]\n",
      " [0. 0. 0. 0. 0. 0.]\n",
      " [0. 0. 0. 0. 0. 0.]\n",
      " [0. 0. 0. 0. 0. 0.]\n",
      " [0. 0. 0. 0. 0. 0.]]\n"
     ]
    }
   ],
   "source": [
    "M = np.zeros((6,6))\n",
    "print('Resetting Matrix')\n",
    "print('Before Assignment: ')\n",
    "print(M)\n",
    "\n",
    "# Set every first element in each row to 1\n",
    "M[:,0] = 1\n",
    "print('\\n After assigning 1 to first column:')\n",
    "print(M)\n",
    "\n",
    "# Set all elements in axis 3 to 5 (Excluding 5) to be equal to the number 5\n",
    "M[2:5, :] = 5\n",
    "print('\\n After assigning 5 to the rows 3-5:')\n",
    "print(M)\n",
    "\n",
    "# reset the matrix back to 0\n",
    "print('\\n Reset to Zero')\n",
    "M = M * 0\n",
    "print(M)\n",
    "\n",
    "# Set the second and third columns to a number == 2\n",
    "M[:, 1:3] = 2\n",
    "print('\\n Assigning 2 to the second and third rows')\n",
    "print(M)\n",
    "\n",
    "# Creating a vector in numpy\n",
    "x = np.arange(6)\n",
    "\n",
    "# Reset the Matrix to 0\n",
    "M *= 0\n",
    "\n",
    "# Set the first row to that range of vector numbers we just created\n",
    "M[0, :] = x\n",
    "print('\\n Assigning vector array x to the first axis in the Matrix')\n",
    "print(M)\n",
    "\n",
    "#################\n",
    "# M[rows,columns]\n",
    "#################"
   ]
  },
  {
   "cell_type": "markdown",
   "metadata": {},
   "source": [
    "#### Elementwise Multiplication"
   ]
  },
  {
   "cell_type": "markdown",
   "metadata": {},
   "source": [
    "<p>As long as the shapes of NDArrays are 'compatible', they can be multiplied elementwise, broadcasted, used in inner products, and much much more. 'Compatible' in this context can mean compatible in the linear algebraic sense, i.e. for inner products and other matrix multiplication, or simply sharing a dimension in such a manner that broadcasting 'makes sense'. Here are some examples of this:</p>"
   ]
  },
  {
   "cell_type": "code",
   "execution_count": 57,
   "metadata": {},
   "outputs": [
    {
     "data": {
      "text/plain": [
       "array([[10, 20, 30],\n",
       "       [ 5, 10, 15],\n",
       "       [ 1,  2,  3]])"
      ]
     },
     "execution_count": 57,
     "metadata": {},
     "output_type": "execute_result"
    }
   ],
   "source": [
    "matrix1 = np.array([\n",
    "    [10, 20, 30],\n",
    "    [5, 10, 15],\n",
    "    [1, 2, 3]\n",
    "])\n",
    "\n",
    "matrix1"
   ]
  },
  {
   "cell_type": "code",
   "execution_count": 58,
   "metadata": {},
   "outputs": [
    {
     "data": {
      "text/plain": [
       "array([ 5, 10, 20])"
      ]
     },
     "execution_count": 58,
     "metadata": {},
     "output_type": "execute_result"
    }
   ],
   "source": [
    "matrix2 = np.array([5, 10, 20])\n",
    "matrix2"
   ]
  },
  {
   "cell_type": "code",
   "execution_count": 59,
   "metadata": {},
   "outputs": [
    {
     "name": "stdout",
     "output_type": "stream",
     "text": [
      "(3, 3)\n",
      "(3,)\n"
     ]
    }
   ],
   "source": [
    "print(matrix1.shape)\n",
    "print(matrix2.shape)"
   ]
  },
  {
   "cell_type": "code",
   "execution_count": 60,
   "metadata": {},
   "outputs": [
    {
     "data": {
      "text/plain": [
       "array([[ 50, 200, 600],\n",
       "       [ 25, 100, 300],\n",
       "       [  5,  20,  60]])"
      ]
     },
     "execution_count": 60,
     "metadata": {},
     "output_type": "execute_result"
    }
   ],
   "source": [
    "result_matrix = matrix1 * matrix2\n",
    "result_matrix"
   ]
  },
  {
   "cell_type": "code",
   "execution_count": 61,
   "metadata": {},
   "outputs": [
    {
     "data": {
      "text/plain": [
       "array([[1, 2],\n",
       "       [3, 4]])"
      ]
     },
     "execution_count": 61,
     "metadata": {},
     "output_type": "execute_result"
    }
   ],
   "source": [
    "matrix3 = np.array([\n",
    "    [1,2],\n",
    "    [3,4]\n",
    "])\n",
    "\n",
    "matrix3"
   ]
  },
  {
   "cell_type": "code",
   "execution_count": 62,
   "metadata": {},
   "outputs": [
    {
     "name": "stdout",
     "output_type": "stream",
     "text": [
      "(2, 2)\n"
     ]
    }
   ],
   "source": [
    "print(matrix3.shape)"
   ]
  },
  {
   "cell_type": "code",
   "execution_count": 63,
   "metadata": {},
   "outputs": [
    {
     "ename": "ValueError",
     "evalue": "operands could not be broadcast together with shapes (3,3) (2,2) ",
     "output_type": "error",
     "traceback": [
      "\u001b[1;31m---------------------------------------------------------------------------\u001b[0m",
      "\u001b[1;31mValueError\u001b[0m                                Traceback (most recent call last)",
      "\u001b[1;32m<ipython-input-63-2deaf3ea430c>\u001b[0m in \u001b[0;36m<module>\u001b[1;34m\u001b[0m\n\u001b[1;32m----> 1\u001b[1;33m \u001b[0mnon_comp_shape\u001b[0m \u001b[1;33m=\u001b[0m \u001b[0mmatrix1\u001b[0m \u001b[1;33m*\u001b[0m \u001b[0mmatrix3\u001b[0m\u001b[1;33m\u001b[0m\u001b[1;33m\u001b[0m\u001b[0m\n\u001b[0m\u001b[0;32m      2\u001b[0m \u001b[0mnon_comp_shape\u001b[0m\u001b[1;33m\u001b[0m\u001b[1;33m\u001b[0m\u001b[0m\n",
      "\u001b[1;31mValueError\u001b[0m: operands could not be broadcast together with shapes (3,3) (2,2) "
     ]
    }
   ],
   "source": [
    "non_comp_shape = matrix1 * matrix3\n",
    "non_comp_shape"
   ]
  },
  {
   "cell_type": "markdown",
   "metadata": {},
   "source": [
    "#### Random Sampling <br>\n",
    "<p>NumPy provides machinery to work with random numbers - something often needed in a broad spectrum of data science applications.</p>"
   ]
  },
  {
   "cell_type": "code",
   "execution_count": 64,
   "metadata": {},
   "outputs": [
    {
     "name": "stdout",
     "output_type": "stream",
     "text": [
      "Here is a random number: 0.1945621437208298\n",
      "Here is a random number between 0 and 1 Million: 398201.41827860766\n",
      "Here are 5 random numbers between 0 and 10: [3.89860357 3.19256771 9.24551806 4.18981656 0.80164342]\n",
      "Here is a 3x3 matrix with numbers between 0 and 10: \n",
      " [[0.16512139 9.66644825 3.47402285]\n",
      " [8.9868087  9.39962072 2.72181944]\n",
      " [2.81606367 1.19096064 5.25028477]]\n"
     ]
    }
   ],
   "source": [
    "# np.random.uniform()\n",
    "\n",
    "# A single call generates a single random number between 0 and 1\n",
    "\n",
    "print('Here is a random number: %s' % np.random.uniform())\n",
    "\n",
    "# You can also pass some parameters or bounds\n",
    "\n",
    "print('Here is a random number between 0 and 1 Million: %s' % np.random.uniform(0, 1e6))\n",
    "\n",
    "# You can also generate a bunch of random numbers all at once\n",
    "\n",
    "print('Here are 5 random numbers between 0 and 10: %s' % np.random.uniform(0, 10, 5))\n",
    "\n",
    "# Even matrices with shapes as a parameter\n",
    "\n",
    "print('Here is a 3x3 matrix with numbers between 0 and 10: \\n %s' % np.random.uniform(0, 10, (3, 3)))"
   ]
  },
  {
   "cell_type": "code",
   "execution_count": 65,
   "metadata": {},
   "outputs": [
    {
     "name": "stdout",
     "output_type": "stream",
     "text": [
      "Here is a random number between 0 and 1 Million: 52025\n",
      "Here are 5 random numbers between 0 and 10: [6 9 9 9 3]\n",
      "Here is a 3x3 matrix with numbers between 0 and 10: \n",
      " [[5 1 4]\n",
      " [5 5 6]\n",
      " [5 7 3]]\n"
     ]
    }
   ],
   "source": [
    "# np.random.randint()\n",
    "\n",
    "# You can also pass some parameters or bounds\n",
    "\n",
    "print('Here is a random number between 0 and 1 Million: %s' % np.random.randint(0, 1e6))\n",
    "\n",
    "# You can also generate a bunch of random numbers all at once\n",
    "\n",
    "print('Here are 5 random numbers between 0 and 10: %s' % np.random.randint(0, 10, 5))\n",
    "\n",
    "# Even matrices with shapes as a parameter\n",
    "\n",
    "print('Here is a 3x3 matrix with numbers between 0 and 10: \\n %s' % np.random.randint(0, 10, (3, 3)))"
   ]
  },
  {
   "cell_type": "markdown",
   "metadata": {},
   "source": [
    "## Working With CSV's"
   ]
  },
  {
   "cell_type": "markdown",
   "metadata": {},
   "source": [
    "#### Imports"
   ]
  },
  {
   "cell_type": "code",
   "execution_count": 66,
   "metadata": {},
   "outputs": [],
   "source": [
    "import csv\n",
    "from datetime import datetime"
   ]
  },
  {
   "cell_type": "code",
   "execution_count": 67,
   "metadata": {},
   "outputs": [
    {
     "name": "stdout",
     "output_type": "stream",
     "text": [
      "[['Rk', 'Pos', 'Name', 'Age', 'G', 'PA', 'AB', 'R', 'H', '2B', '3B', 'HR', 'RBI', 'SB', 'CS', 'BB', 'SO', 'BA', 'OBP', 'SLG', 'OPS', 'OPS+', 'TB', 'GDP', 'HBP', 'SH', 'SF', 'IBB'], ['1', 'C', 'Yasmani Grandal', '32', '93', '375', '279', '60', '67', '9', '0', '23', '62', '0', '0', '87', '82', '.240', '.420', '.520', '.939', '157', '145', '15', '3', '1', '5', '0'], ['2', '1B', 'José Abreu', '34', '152', '659', '566', '86', '148', '30', '2', '30', '117', '1', '0', '61', '143', '.261', '.351', '.481', '.831', '125', '272', '28', '22', '0', '10', '3'], ['3', '2B', 'Cesar Hernandez', '31', '53', '217', '194', '24', '45', '4', '0', '3', '15', '1', '1', '21', '45', '.232', '.309', '.299', '.608', '69', '58', '5', '1', '0', '1', '2'], ['4', 'SS', 'Tim Anderson', '28', '123', '551', '527', '94', '163', '29', '2', '17', '61', '18', '7', '22', '119', '.309', '.338', '.469', '.806', '118', '247', '5', '1', '0', '1', '1'], ['5', '3B', 'Yoan Moncada', '26', '144', '616', '520', '74', '137', '33', '1', '14', '61', '3', '2', '84', '157', '.263', '.375', '.412', '.787', '117', '214', '6', '10', '0', '2', '1'], ['6', 'LF', 'Andrew Vaughn', '23', '127', '469', '417', '56', '98', '22', '0', '15', '48', '1', '1', '41', '101', '.235', '.309', '.396', '.705', '92', '165', '14', '6', '0', '5', '0'], ['7', 'CF', 'Luis Robert', '23', '68', '296', '275', '42', '93', '22', '1', '13', '43', '6', '1', '14', '61', '.338', '.378', '.567', '.946', '155', '156', '4', '5', '0', '2', '1'], ['8', 'RF', 'Adam Eaton', '32', '58', '219', '189', '33', '38', '8', '2', '5', '28', '2', '0', '20', '55', '.201', '.298', '.344', '.642', '76', '65', '5', '6', '4', '0', '0'], ['9', 'DH', 'Yermin Mercedes', '28', '68', '262', '240', '26', '65', '9', '1', '7', '37', '0', '1', '20', '46', '.271', '.328', '.404', '.732', '100', '97', '7', '1', '0', '1', '1'], ['10', 'UT', 'Leury Garcia', '30', '126', '474', '415', '60', '111', '22', '4', '5', '54', '6', '2', '41', '97', '.267', '.335', '.376', '.711', '96', '156', '12', '4', '9', '5', '0'], ['11', 'OF', 'Brian Goodwin', '30', '72', '271', '235', '33', '52', '10', '1', '8', '29', '1', '0', '33', '58', '.221', '.319', '.374', '.693', '90', '88', '2', '1', '1', '1', '0'], ['12', 'LF', 'Eloy Jimenez', '24', '55', '231', '213', '23', '53', '10', '0', '10', '37', '0', '0', '16', '57', '.249', '.303', '.437', '.740', '100', '93', '8', '1', '0', '1', '0'], ['13', 'C', 'Zack Collins', '26', '78', '231', '195', '25', '41', '13', '0', '4', '26', '1', '1', '34', '69', '.210', '.330', '.338', '.669', '85', '66', '4', '1', '1', '0', '1'], ['14', '2B', 'Nick Madrigal', '24', '54', '215', '200', '30', '61', '10', '4', '2', '21', '1', '2', '11', '17', '.305', '.349', '.425', '.774', '112', '85', '3', '3', '0', '1', '0'], ['15', 'MI', 'Danny Mendick', '27', '71', '186', '164', '14', '36', '5', '0', '2', '20', '0', '1', '18', '42', '.220', '.303', '.287', '.589', '64', '47', '1', '2', '1', '1', '0'], ['16', 'DH', 'Gavin Sheets', '25', '54', '179', '160', '23', '40', '8', '0', '11', '34', '0', '0', '16', '40', '.250', '.324', '.506', '.830', '123', '81', '4', '2', '0', '1', '0'], ['17', 'CF', 'Adam Engel', '29', '39', '140', '123', '21', '31', '9', '0', '7', '18', '7', '1', '11', '31', '.252', '.336', '.496', '.832', '124', '61', '4', '5', '0', '1', '0'], ['18', 'CF', 'Billy Hamilton', '30', '71', '135', '127', '23', '28', '8', '3', '2', '11', '9', '0', '4', '47', '.220', '.242', '.378', '.620', '67', '48', '1', '0', '3', '1', '0'], ['19', 'UT', 'Jake Lamb', '30', '43', '131', '113', '20', '24', '2', '0', '6', '13', '0', '0', '17', '38', '.212', '.321', '.389', '.710', '94', '44', '4', '1', '0', '0', '0'], ['20', 'C', 'Seby Zavala', '27', '37', '104', '93', '15', '17', '3', '0', '5', '15', '0', '0', '6', '41', '.183', '.240', '.376', '.616', '66', '35', '1', '1', '4', '0', '0'], ['21', '3B', 'Jake Burger', '25', '15', '42', '38', '5', '10', '3', '1', '1', '3', '0', '0', '4', '15', '.263', '.333', '.474', '.807', '118', '18', '2', '0', '0', '0', '0'], ['22', 'UT', 'Romy Gonzalez', '24', '10', '33', '32', '4', '8', '3', '0', '0', '2', '0', '0', '1', '11', '.250', '.273', '.344', '.616', '68', '11', '1', '0', '0', '0', '0'], ['23', 'LF', 'Nick Williams', '27', '4', '13', '10', '2', '0', '0', '0', '0', '0', '0', '0', '1', '4', '.000', '.231', '.000', '.231', '-27', '0', '1', '2', '0', '0', '0'], ['24', 'OF', 'Luis Gonzalez', '25', '6', '11', '8', '2', '2', '2', '0', '0', '0', '0', '0', '3', '2', '.250', '.455', '.500', '.955', '163', '4', '1', '0', '0', '0', '0']]\n"
     ]
    }
   ],
   "source": [
    "# Creating Function to open and read CSV data\n",
    "def open_csv(filename, d = ','):\n",
    "    # define an empty list to store data\n",
    "    data = []\n",
    "    \n",
    "    with open(filename, encoding = 'utf-8') as mData:\n",
    "        # use the csv reader method to create a python list\n",
    "        info = csv.reader(mData, delimiter = d)\n",
    "        \n",
    "        # Loop over info and append to data list\n",
    "        for row in info:\n",
    "            data.append(row)\n",
    "    return data\n",
    "\n",
    "whitesox_data = open_csv('whitesox_2021_hitting.csv')\n",
    "\n",
    "print(whitesox_data)"
   ]
  },
  {
   "cell_type": "code",
   "execution_count": 68,
   "metadata": {},
   "outputs": [
    {
     "data": {
      "text/plain": [
       "array([( 1, b'C', b'Yasmani Grandal', 32,  93, 375, 279, 60,  67,  9, 0, 23,  62,  0, 0, 87,  82, 0.24 , 0.42 , 0.52 , 0.939, 157, 145, 15,  3, 1,  5, 0),\n",
       "       ( 2, b'1B', b'Jos\\xc3\\xa9 Abreu', 34, 152, 659, 566, 86, 148, 30, 2, 30, 117,  1, 0, 61, 143, 0.261, 0.351, 0.481, 0.831, 125, 272, 28, 22, 0, 10, 3),\n",
       "       ( 3, b'2B', b'Cesar Hernandez', 31,  53, 217, 194, 24,  45,  4, 0,  3,  15,  1, 1, 21,  45, 0.232, 0.309, 0.299, 0.608,  69,  58,  5,  1, 0,  1, 2),\n",
       "       ( 4, b'SS', b'Tim Anderson', 28, 123, 551, 527, 94, 163, 29, 2, 17,  61, 18, 7, 22, 119, 0.309, 0.338, 0.469, 0.806, 118, 247,  5,  1, 0,  1, 1),\n",
       "       ( 5, b'3B', b'Yoan Moncada', 26, 144, 616, 520, 74, 137, 33, 1, 14,  61,  3, 2, 84, 157, 0.263, 0.375, 0.412, 0.787, 117, 214,  6, 10, 0,  2, 1),\n",
       "       ( 6, b'LF', b'Andrew Vaughn', 23, 127, 469, 417, 56,  98, 22, 0, 15,  48,  1, 1, 41, 101, 0.235, 0.309, 0.396, 0.705,  92, 165, 14,  6, 0,  5, 0),\n",
       "       ( 7, b'CF', b'Luis Robert', 23,  68, 296, 275, 42,  93, 22, 1, 13,  43,  6, 1, 14,  61, 0.338, 0.378, 0.567, 0.946, 155, 156,  4,  5, 0,  2, 1),\n",
       "       ( 8, b'RF', b'Adam Eaton', 32,  58, 219, 189, 33,  38,  8, 2,  5,  28,  2, 0, 20,  55, 0.201, 0.298, 0.344, 0.642,  76,  65,  5,  6, 4,  0, 0),\n",
       "       ( 9, b'DH', b'Yermin Mercedes', 28,  68, 262, 240, 26,  65,  9, 1,  7,  37,  0, 1, 20,  46, 0.271, 0.328, 0.404, 0.732, 100,  97,  7,  1, 0,  1, 1),\n",
       "       (10, b'UT', b'Leury Garcia', 30, 126, 474, 415, 60, 111, 22, 4,  5,  54,  6, 2, 41,  97, 0.267, 0.335, 0.376, 0.711,  96, 156, 12,  4, 9,  5, 0),\n",
       "       (11, b'OF', b'Brian Goodwin', 30,  72, 271, 235, 33,  52, 10, 1,  8,  29,  1, 0, 33,  58, 0.221, 0.319, 0.374, 0.693,  90,  88,  2,  1, 1,  1, 0),\n",
       "       (12, b'LF', b'Eloy Jimenez', 24,  55, 231, 213, 23,  53, 10, 0, 10,  37,  0, 0, 16,  57, 0.249, 0.303, 0.437, 0.74 , 100,  93,  8,  1, 0,  1, 0),\n",
       "       (13, b'C', b'Zack Collins', 26,  78, 231, 195, 25,  41, 13, 0,  4,  26,  1, 1, 34,  69, 0.21 , 0.33 , 0.338, 0.669,  85,  66,  4,  1, 1,  0, 1),\n",
       "       (14, b'2B', b'Nick Madrigal', 24,  54, 215, 200, 30,  61, 10, 4,  2,  21,  1, 2, 11,  17, 0.305, 0.349, 0.425, 0.774, 112,  85,  3,  3, 0,  1, 0),\n",
       "       (15, b'MI', b'Danny Mendick', 27,  71, 186, 164, 14,  36,  5, 0,  2,  20,  0, 1, 18,  42, 0.22 , 0.303, 0.287, 0.589,  64,  47,  1,  2, 1,  1, 0),\n",
       "       (16, b'DH', b'Gavin Sheets', 25,  54, 179, 160, 23,  40,  8, 0, 11,  34,  0, 0, 16,  40, 0.25 , 0.324, 0.506, 0.83 , 123,  81,  4,  2, 0,  1, 0),\n",
       "       (17, b'CF', b'Adam Engel', 29,  39, 140, 123, 21,  31,  9, 0,  7,  18,  7, 1, 11,  31, 0.252, 0.336, 0.496, 0.832, 124,  61,  4,  5, 0,  1, 0),\n",
       "       (18, b'CF', b'Billy Hamilton', 30,  71, 135, 127, 23,  28,  8, 3,  2,  11,  9, 0,  4,  47, 0.22 , 0.242, 0.378, 0.62 ,  67,  48,  1,  0, 3,  1, 0),\n",
       "       (19, b'UT', b'Jake Lamb', 30,  43, 131, 113, 20,  24,  2, 0,  6,  13,  0, 0, 17,  38, 0.212, 0.321, 0.389, 0.71 ,  94,  44,  4,  1, 0,  0, 0),\n",
       "       (20, b'C', b'Seby Zavala', 27,  37, 104,  93, 15,  17,  3, 0,  5,  15,  0, 0,  6,  41, 0.183, 0.24 , 0.376, 0.616,  66,  35,  1,  1, 4,  0, 0),\n",
       "       (21, b'3B', b'Jake Burger', 25,  15,  42,  38,  5,  10,  3, 1,  1,   3,  0, 0,  4,  15, 0.263, 0.333, 0.474, 0.807, 118,  18,  2,  0, 0,  0, 0),\n",
       "       (22, b'UT', b'Romy Gonzalez', 24,  10,  33,  32,  4,   8,  3, 0,  0,   2,  0, 0,  1,  11, 0.25 , 0.273, 0.344, 0.616,  68,  11,  1,  0, 0,  0, 0),\n",
       "       (23, b'LF', b'Nick Williams', 27,   4,  13,  10,  2,   0,  0, 0,  0,   0,  0, 0,  1,   4, 0.   , 0.231, 0.   , 0.231, -27,   0,  1,  2, 0,  0, 0),\n",
       "       (24, b'OF', b'Luis Gonzalez', 25,   6,  11,   8,  2,   2,  2, 0,  0,   0,  0, 0,  3,   2, 0.25 , 0.455, 0.5  , 0.955, 163,   4,  1,  0, 0,  0, 0)],\n",
       "      dtype=[('Rk', '<i4'), ('Pos', 'S25'), ('Name', 'S25'), ('Age', '<i4'), ('G', '<i4'), ('PA', '<i4'), ('AB', '<i4'), ('R', '<i4'), ('H', '<i4'), ('2B', '<i4'), ('3B', '<i4'), ('HR', '<i4'), ('RBI', '<i4'), ('SB', '<i4'), ('CS', '<i4'), ('BB', '<i4'), ('SO', '<i4'), ('BA', '<f4'), ('OBP', '<f4'), ('SLG', '<f4'), ('OPS', '<f4'), ('OPS_1', '<i4'), ('TB', '<i4'), ('GDP', '<i4'), ('HBP', '<i4'), ('SH', '<i4'), ('SF', '<i4'), ('IBB', '<i4')])"
      ]
     },
     "execution_count": 68,
     "metadata": {},
     "output_type": "execute_result"
    }
   ],
   "source": [
    "FIELDS = ['Rk', 'Pos', 'Name', 'Age', 'G', 'PA', 'AB', 'R', 'H', '2B', '3B', 'HR', 'RBI', 'SB', 'CS', \n",
    "          'BB', 'SO', 'BA', 'OBP', 'SLG', 'OPS', 'OPS+', 'TB', 'GDP', 'HBP', 'SH', 'SF', 'IBB']\n",
    "\n",
    "DATATYPES = [('rk', 'i'), ('pos', '|S25'), ('name', '|S25'), ('age', 'i'), ('g', 'i'), ('pa', 'i'), ('ab', 'i'),\n",
    "                ('r', 'i'), ('h', 'i'), ('2b', 'i'), ('3b', 'i'), ('hr', 'i'), ('rbi', 'i'), ('sb', 'i'), ('cs', 'i'),\n",
    "                ('bb', 'i'), ('so', 'i'), ('ba', 'f'), ('obp', 'f'), ('slg', 'f'), ('ops', 'f'), ('opsp', 'i'),\n",
    "                ('tb', 'i'), ('gdp', 'i'), ('hbp', 'i'), ('sh', 'i'), ('sf', 'i'), ('ibb', 'i')]\n",
    "\n",
    "def open_csv_as_ndarray(filename, d=','):\n",
    "    data = np.genfromtxt(filename, delimiter=d, names=FIELDS, dtype=DATATYPES, skip_header=1)\n",
    "    return data\n",
    "\n",
    "\n",
    "sox21 = open_csv_as_ndarray('whitesox_2021_hitting.csv')\n",
    "sox21"
   ]
  },
  {
   "cell_type": "code",
   "execution_count": 69,
   "metadata": {},
   "outputs": [
    {
     "data": {
      "text/plain": [
       "array([b'Yasmani Grandal', b'Jos\\xc3\\xa9 Abreu', b'Cesar Hernandez',\n",
       "       b'Tim Anderson', b'Yoan Moncada', b'Andrew Vaughn', b'Luis Robert',\n",
       "       b'Adam Eaton', b'Yermin Mercedes', b'Leury Garcia',\n",
       "       b'Brian Goodwin', b'Eloy Jimenez', b'Zack Collins',\n",
       "       b'Nick Madrigal', b'Danny Mendick', b'Gavin Sheets', b'Adam Engel',\n",
       "       b'Billy Hamilton', b'Jake Lamb', b'Seby Zavala', b'Jake Burger',\n",
       "       b'Romy Gonzalez', b'Nick Williams', b'Luis Gonzalez'], dtype='|S25')"
      ]
     },
     "execution_count": 69,
     "metadata": {},
     "output_type": "execute_result"
    }
   ],
   "source": [
    "sox21['Name']"
   ]
  },
  {
   "cell_type": "code",
   "execution_count": 70,
   "metadata": {},
   "outputs": [
    {
     "data": {
      "text/plain": [
       "array([ 67, 148,  45, 163, 137,  98,  93,  38,  65, 111,  52,  53,  41,\n",
       "        61,  36,  40,  31,  28,  24,  17,  10,   8,   0,   2], dtype=int32)"
      ]
     },
     "execution_count": 70,
     "metadata": {},
     "output_type": "execute_result"
    }
   ],
   "source": [
    "sox21['H']"
   ]
  },
  {
   "cell_type": "code",
   "execution_count": 71,
   "metadata": {},
   "outputs": [
    {
     "data": {
      "text/plain": [
       "array([( 2, b'1B', b'Jos\\xc3\\xa9 Abreu', 34, 152, 659, 566, 86, 148, 30, 2, 30, 117,  1, 0, 61, 143, 0.261, 0.351, 0.481, 0.831, 125, 272, 28, 22, 0, 10, 3),\n",
       "       ( 4, b'SS', b'Tim Anderson', 28, 123, 551, 527, 94, 163, 29, 2, 17,  61, 18, 7, 22, 119, 0.309, 0.338, 0.469, 0.806, 118, 247,  5,  1, 0,  1, 1),\n",
       "       ( 5, b'3B', b'Yoan Moncada', 26, 144, 616, 520, 74, 137, 33, 1, 14,  61,  3, 2, 84, 157, 0.263, 0.375, 0.412, 0.787, 117, 214,  6, 10, 0,  2, 1),\n",
       "       (10, b'UT', b'Leury Garcia', 30, 126, 474, 415, 60, 111, 22, 4,  5,  54,  6, 2, 41,  97, 0.267, 0.335, 0.376, 0.711,  96, 156, 12,  4, 9,  5, 0)],\n",
       "      dtype=[('Rk', '<i4'), ('Pos', 'S25'), ('Name', 'S25'), ('Age', '<i4'), ('G', '<i4'), ('PA', '<i4'), ('AB', '<i4'), ('R', '<i4'), ('H', '<i4'), ('2B', '<i4'), ('3B', '<i4'), ('HR', '<i4'), ('RBI', '<i4'), ('SB', '<i4'), ('CS', '<i4'), ('BB', '<i4'), ('SO', '<i4'), ('BA', '<f4'), ('OBP', '<f4'), ('SLG', '<f4'), ('OPS', '<f4'), ('OPS_1', '<i4'), ('TB', '<i4'), ('GDP', '<i4'), ('HBP', '<i4'), ('SH', '<i4'), ('SF', '<i4'), ('IBB', '<i4')])"
      ]
     },
     "execution_count": 71,
     "metadata": {},
     "output_type": "execute_result"
    }
   ],
   "source": [
    "# Hitters who had more than 100 hits\n",
    "sox21[sox21['H'] > 100]"
   ]
  },
  {
   "cell_type": "code",
   "execution_count": 72,
   "metadata": {},
   "outputs": [
    {
     "data": {
      "text/plain": [
       "array([(b'Cesar Hernandez', 3), (b'Adam Eaton', 5),\n",
       "       (b'Yermin Mercedes', 7), (b'Leury Garcia', 5),\n",
       "       (b'Brian Goodwin', 8), (b'Zack Collins', 4), (b'Nick Madrigal', 2),\n",
       "       (b'Danny Mendick', 2), (b'Adam Engel', 7), (b'Billy Hamilton', 2),\n",
       "       (b'Jake Lamb', 6), (b'Seby Zavala', 5), (b'Jake Burger', 1),\n",
       "       (b'Romy Gonzalez', 0), (b'Nick Williams', 0),\n",
       "       (b'Luis Gonzalez', 0)],\n",
       "      dtype={'names':['Name','HR'], 'formats':['S25','<i4'], 'offsets':[29,86], 'itemsize':154})"
      ]
     },
     "execution_count": 72,
     "metadata": {},
     "output_type": "execute_result"
    }
   ],
   "source": [
    "# Hitters who had less than 10 home runs\n",
    "sox21[sox21['HR'] < 10][['Name','HR']]"
   ]
  },
  {
   "cell_type": "code",
   "execution_count": 73,
   "metadata": {},
   "outputs": [
    {
     "name": "stdout",
     "output_type": "stream",
     "text": [
      "[ 62 117  15  61  61  48  43  28  37  54  29  37  26  21  20  34  18  11\n",
      "  13  15   3   2   0   0]\n",
      "755\n"
     ]
    }
   ],
   "source": [
    "# find total rbis\n",
    "rbis = sox21['RBI']\n",
    "print(rbis)\n",
    "total_rbis = sum(sox21['RBI'])\n",
    "print(total_rbis)"
   ]
  },
  {
   "cell_type": "markdown",
   "metadata": {
    "collapsed": true
   },
   "source": [
    "# Exercises To Complete.... <br>\n",
    "<p>Given in separate file after completion of this file</p>"
   ]
  }
 ],
 "metadata": {
  "kernelspec": {
   "display_name": "Python 3",
   "language": "python",
   "name": "python3"
  },
  "language_info": {
   "codemirror_mode": {
    "name": "ipython",
    "version": 3
   },
   "file_extension": ".py",
   "mimetype": "text/x-python",
   "name": "python",
   "nbconvert_exporter": "python",
   "pygments_lexer": "ipython3",
   "version": "3.8.5"
  }
 },
 "nbformat": 4,
 "nbformat_minor": 4
}
